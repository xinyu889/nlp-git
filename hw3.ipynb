{
 "cells": [
  {
   "cell_type": "code",
   "execution_count": 12,
   "source": [
    "from numpy.random import RandomState\n",
    "import pandas as pd\n",
    "from sklearn.neighbors import KNeighborsClassifier\n",
    "from sklearn.feature_extraction.text import CountVectorizer\n",
    "from sklearn.feature_extraction.text import TfidfTransformer\n",
    "import jieba\n",
    "import jieba.analyse\n",
    "import re"
   ],
   "outputs": [],
   "metadata": {}
  },
  {
   "cell_type": "code",
   "execution_count": 13,
   "source": [
    "df = pd.read_csv('movies.csv')\n",
    "#str -> dict\n",
    "df['類別'] = df['類別'].apply(eval)\n",
    "# list first catagory\n",
    "def list_genres(x):\n",
    "    for d in x.values():\n",
    "        return(d)\n",
    "        \n",
    "df['主類別'] = df['類別'].apply(list_genres)"
   ],
   "outputs": [],
   "metadata": {}
  },
  {
   "cell_type": "code",
   "execution_count": 14,
   "source": [
    "#split overview\n",
    "def split_overview(df):\n",
    "    overview = []\n",
    "    for d in df['劇情介紹']:\n",
    "        keywords = jieba.analyse.extract_tags(d, topK=5)\n",
    "        overview.append(keywords)\n",
    "\n",
    "    df['關鍵字'] = overview\n",
    "    return df['關鍵字']"
   ],
   "outputs": [],
   "metadata": {}
  },
  {
   "cell_type": "code",
   "execution_count": 15,
   "source": [
    "df['關鍵字'] = split_overview(df)"
   ],
   "outputs": [],
   "metadata": {}
  },
  {
   "cell_type": "code",
   "execution_count": 16,
   "source": [
    "df['keywords'] = ''\n",
    "def bag_words(x):\n",
    "    return (''.join(re.sub('[^\\u4e00-\\u9fa5]+', '', x['中文名稱'])) + ' ' + ''.join(x['主類別']) + ' ' +  ' '.join(x['關鍵字']))\n",
    "df['keywords'] = df.apply(bag_words, axis = 1)"
   ],
   "outputs": [],
   "metadata": {}
  },
  {
   "cell_type": "code",
   "execution_count": 17,
   "source": [
    "#split Data to train and test\n",
    "rng = RandomState()\n",
    "train = df.sample(frac=0.9173, random_state=rng)\n",
    "test = df.loc[~df.index.isin(train.index)]\n",
    "#test['主類別'].to_csv('test_Data.csv')"
   ],
   "outputs": [],
   "metadata": {}
  },
  {
   "cell_type": "code",
   "execution_count": 18,
   "source": [
    "# 將文件中的詞語轉換為詞頻矩陣\n",
    "cv = CountVectorizer()\n",
    "cv_train = cv.fit_transform(train['keywords'])\n",
    "cv_test = cv.transform(test['keywords'])"
   ],
   "outputs": [],
   "metadata": {}
  },
  {
   "cell_type": "code",
   "execution_count": 19,
   "source": [
    "#類調用\n",
    "transformer = TfidfTransformer()\n",
    "#將詞頻矩陣X統計成TF-IDF值\n",
    "tfidf_train = transformer.fit_transform(cv_train)\n",
    "tfidf_test = transformer.transform(cv_test)"
   ],
   "outputs": [],
   "metadata": {}
  },
  {
   "cell_type": "code",
   "execution_count": 20,
   "source": [
    "knn  = KNeighborsClassifier(n_neighbors=11,p=2,n_jobs=2)\n",
    "knn.fit(tfidf_train,train['主類別'])"
   ],
   "outputs": [
    {
     "output_type": "execute_result",
     "data": {
      "text/plain": [
       "KNeighborsClassifier(n_jobs=2, n_neighbors=11)"
      ]
     },
     "metadata": {},
     "execution_count": 20
    }
   ],
   "metadata": {}
  },
  {
   "cell_type": "code",
   "execution_count": 21,
   "source": [
    "#predict test_Data\n",
    "knn.predict(tfidf_test)"
   ],
   "outputs": [
    {
     "output_type": "execute_result",
     "data": {
      "text/plain": [
       "array(['動作', '動作', '動作', '動作', '動畫', '動畫', '動作', '動作', '動作', '劇情', '動作',\n",
       "       '動作', '劇情', '劇情', '動作', '動作', '動作', '動畫', '動作', '動作', '劇情', '動作',\n",
       "       '動作', '動作', '恐怖', '動作', '動作', '動作', '動作', '動作', '動作', '戰爭', '戰爭',\n",
       "       '動作', '動作', '動作', '動作', '動作', '動作', '動作', '動作', '動作', '劇情', '動作',\n",
       "       '動作', '動作', '動作', '恐怖', '動作', '動作', '動作', '動作', '劇情', '動作', '動作',\n",
       "       '動作', '劇情', '動作', '動作', '動作', '恐怖', '動作', '動作', '動作', '戰爭', '動作',\n",
       "       '動作', '動作', '動作', '動作', '動作', '動作', '動作', '動畫', '動畫', '動畫', '動作',\n",
       "       '冒險', '動畫', '冒險', '動作', '冒險', '冒險', '動作', '動作', '冒險', '奇幻', '冒險',\n",
       "       '冒險', '冒險', '動作', '動作', '劇情', '冒險', '冒險', '冒險', '溫馨/家庭', '劇情',\n",
       "       '動作', '冒險', '動作', '劇情', '動作', '動作', '動作', '冒險', '劇情', '動作', '冒險',\n",
       "       '動作', '溫馨/家庭', '動作', '動作', '動作', '科幻', '劇情', '科幻', '恐怖', '科幻',\n",
       "       '劇情', '動作', '動作', '科幻', '劇情', '劇情', '動作', '科幻', '動作', '動作', '冒險',\n",
       "       '劇情', '動作', '劇情', '愛情', '溫馨/家庭', '奇幻', '愛情', '奇幻', '動畫', '動畫',\n",
       "       '奇幻', '奇幻', '奇幻', '劇情', '奇幻', '劇情', '劇情', '溫馨/家庭', '劇情', '冒險',\n",
       "       '動畫', '動作', '劇情', '劇情', '劇情', '歷史/傳記', '劇情', '劇情', '劇情', '劇情',\n",
       "       '恐怖', '劇情', '音樂/歌舞', '劇情', '劇情', '劇情', '音樂/歌舞', '劇情', '劇情', '愛情',\n",
       "       '劇情', '劇情', '愛情', '動作', '動作', '劇情', '劇情', '劇情', '劇情', '劇情', '劇情',\n",
       "       '劇情', '劇情', '劇情', '劇情', '劇情', '動作', '劇情', '愛情', '劇情', '愛情', '劇情',\n",
       "       '劇情', '劇情', '劇情', '劇情', '劇情', '劇情', '劇情', '歷史/傳記', '劇情', '劇情',\n",
       "       '劇情', '歷史/傳記', '愛情', '劇情', '愛情', '歷史/傳記', '勵志', '劇情', '劇情',\n",
       "       '音樂/歌舞', '音樂/歌舞', '劇情', '劇情', '劇情', '劇情', '劇情', '劇情', '劇情', '劇情',\n",
       "       '劇情', '劇情', '犯罪', '劇情', '劇情', '劇情', '劇情', '恐怖', '劇情', '劇情', '劇情',\n",
       "       '動作', '恐怖', '劇情', '劇情', '犯罪', '恐怖', '劇情', '喜劇', '動作', '劇情', '動作',\n",
       "       '劇情', '劇情', '劇情', '劇情', '冒險', '恐怖', '動作', '恐怖', '恐怖', '恐怖', '恐怖',\n",
       "       '恐怖', '恐怖', '恐怖', '劇情', '恐怖', '劇情', '恐怖', '恐怖', '恐怖', '恐怖', '喜劇',\n",
       "       '影展', '恐怖', '劇情', '恐怖', '劇情', '恐怖', '恐怖', '恐怖', '恐怖', '恐怖', '恐怖',\n",
       "       '恐怖', '恐怖', '恐怖', '恐怖', '恐怖', '恐怖', '恐怖', '動作', '恐怖', '恐怖', '動作',\n",
       "       '恐怖', '恐怖', '恐怖', '恐怖', '恐怖', '恐怖', '劇情', '劇情', '恐怖', '恐怖', '劇情',\n",
       "       '恐怖', '恐怖', '恐怖', '恐怖', '劇情', '恐怖', '懸疑/驚悚', '懸疑/驚悚', '劇情',\n",
       "       '懸疑/驚悚', '劇情', '劇情', '懸疑/驚悚', '劇情', '愛情', '劇情', '懸疑/驚悚', '懸疑/驚悚',\n",
       "       '劇情', '冒險', '劇情', '劇情', '懸疑/驚悚', '懸疑/驚悚', '劇情', '懸疑/驚悚', '劇情',\n",
       "       '喜劇', '恐怖', '劇情', '劇情', '愛情', '溫馨/家庭', '喜劇', '劇情', '劇情', '劇情',\n",
       "       '劇情', '喜劇', '劇情', '劇情', '喜劇', '動作', '劇情', '動作', '喜劇', '劇情', '影展',\n",
       "       '喜劇', '劇情', '喜劇', '懸疑/驚悚', '劇情', '劇情', '愛情', '劇情', '劇情', '劇情',\n",
       "       '動作', '喜劇', '喜劇', '愛情', '劇情', '劇情', '劇情', '劇情', '喜劇', '喜劇', '喜劇',\n",
       "       '劇情', '劇情', '劇情', '劇情', '喜劇', '劇情', '愛情', '愛情', '愛情', '劇情', '愛情',\n",
       "       '愛情', '劇情', '劇情', '劇情', '劇情', '劇情', '劇情', '劇情', '劇情', '劇情', '劇情',\n",
       "       '劇情', '劇情', '劇情', '愛情', '愛情', '劇情', '愛情', '劇情', '劇情', '劇情', '劇情',\n",
       "       '劇情', '劇情', '劇情', '劇情', '動畫', '愛情', '愛情', '溫馨/家庭', '溫馨/家庭', '劇情',\n",
       "       '溫馨/家庭', '動作', '劇情', '溫馨/家庭', '劇情', '劇情', '劇情', '溫馨/家庭', '劇情',\n",
       "       '劇情', '劇情', '溫馨/家庭', '劇情', '溫馨/家庭', '溫馨/家庭', '動作', '動畫', '動畫',\n",
       "       '動畫', '劇情', '動畫', '劇情', '動畫', '動畫', '動畫', '動畫', '動作', '動畫', '動畫',\n",
       "       '動畫', '動畫', '動畫', '動畫', '動畫', '動畫', '劇情', '動畫', '動畫', '動畫', '動畫',\n",
       "       '動畫', '動畫', '喜劇', '動作', '科幻', '愛情', '動作', '劇情', '劇情', '動作', '劇情',\n",
       "       '劇情', '動作', '劇情', '劇情', '音樂/歌舞', '動畫', '音樂/歌舞', '音樂/歌舞', '劇情',\n",
       "       '音樂/歌舞', '音樂/歌舞', '劇情', '音樂/歌舞', '歷史/傳記', '劇情', '歷史/傳記', '劇情',\n",
       "       '劇情', '紀錄片', '紀錄片', '劇情', '紀錄片', '紀錄片', '紀錄片', '紀錄片', '紀錄片', '紀錄片',\n",
       "       '紀錄片', '劇情', '紀錄片', '劇情', '紀錄片', '劇情', '紀錄片', '勵志', '劇情', '影展',\n",
       "       '影展', '影展'], dtype=object)"
      ]
     },
     "metadata": {},
     "execution_count": 21
    }
   ],
   "metadata": {}
  },
  {
   "cell_type": "code",
   "execution_count": 22,
   "source": [
    "#精準度%\n",
    "Accuracy = knn.score(tfidf_test,test['主類別'])\n",
    "print(Accuracy*100 , '%')"
   ],
   "outputs": [
    {
     "output_type": "stream",
     "name": "stdout",
     "text": [
      "76.6 %\n"
     ]
    }
   ],
   "metadata": {}
  }
 ],
 "metadata": {
  "orig_nbformat": 4,
  "language_info": {
   "name": "python",
   "version": "3.7.6",
   "mimetype": "text/x-python",
   "codemirror_mode": {
    "name": "ipython",
    "version": 3
   },
   "pygments_lexer": "ipython3",
   "nbconvert_exporter": "python",
   "file_extension": ".py"
  },
  "kernelspec": {
   "name": "python3",
   "display_name": "Python 3.7.6 64-bit ('3.7.6': pyenv)"
  },
  "interpreter": {
   "hash": "7fc41b1a7acd303dd356c32eae0bc8ee4149514fe8a099b2279ea3ac2a654e9b"
  }
 },
 "nbformat": 4,
 "nbformat_minor": 2
}