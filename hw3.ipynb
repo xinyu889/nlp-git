{
 "cells": [
  {
   "cell_type": "code",
   "execution_count": 2,
   "source": [
    "from numpy.random import RandomState\n",
    "import pandas as pd\n",
    "from sklearn.feature_extraction.text import CountVectorizer\n",
    "import jieba\n",
    "import jieba.analyse\n",
    "\n",
    "df = pd.read_csv('movies.csv')\n",
    "#str -> dict\n",
    "df['類別'] = df['類別'].apply(eval)\n",
    "\n",
    "# list first catagory\n",
    "def list_genres(x):\n",
    "    for d in x.values():\n",
    "        return(d)\n",
    "\n",
    "df['類別'] = df['類別'].apply(list_genres)"
   ],
   "outputs": [],
   "metadata": {}
  },
  {
   "cell_type": "code",
   "execution_count": 3,
   "source": [
    "#split overview\n",
    "overview = []\n",
    "for d in df['劇情介紹']:\n",
    "    keywords = jieba.analyse.extract_tags(d, topK=5)\n",
    "    overview.append(keywords)\n",
    "\n",
    "df['關鍵字'] = overview\n",
    "df['關鍵字'].head()\n"
   ],
   "outputs": [
    {
     "output_type": "stream",
     "name": "stderr",
     "text": [
      "Building prefix dict from the default dictionary ...\n",
      "Loading model from cache /var/folders/g9/__yhhv7d0xx59_jssnmpjhwh0000gn/T/jieba.cache\n",
      "Loading model cost 0.773 seconds.\n",
      "Prefix dict has been built successfully.\n"
     ]
    },
    {
     "output_type": "execute_result",
     "data": {
      "text/plain": [
       "0            [電影, 這部, 小小, 動畫, 超級]\n",
       "1           [蝙蝠, 一個, 布魯斯, 韋恩, 並從]\n",
       "2          [奧斯卡, 雷托領, 治療, 實驗, 結果]\n",
       "3    [捍衛戰士, 任務, 1986, 湯姆克魯斯, 獨行俠]\n",
       "4           [魔鬼, 星未來, 童星, 保羅, 續集]\n",
       "Name: 關鍵字, dtype: object"
      ]
     },
     "metadata": {},
     "execution_count": 3
    }
   ],
   "metadata": {}
  },
  {
   "cell_type": "code",
   "execution_count": 4,
   "source": [
    "import re\n",
    "df['keywords'] = ''\n",
    "def bag_words(x):\n",
    "    return (''.join(re.sub('[^\\u4e00-\\u9fa5]+', '', x['中文名稱'])) + ' ' + ''.join(x['類別']) + ' ' +  ' '.join(x['關鍵字']))\n",
    "df['keywords'] = df.apply(bag_words, axis = 1)\n",
    "\n",
    "df['keywords'].head()"
   ],
   "outputs": [
    {
     "output_type": "execute_result",
     "data": {
      "text/plain": [
       "0           小小兵格魯的崛起 動畫 電影 這部 小小 動畫 超級\n",
       "1               蝙蝠俠 動作 蝙蝠 一個 布魯斯 韋恩 並從\n",
       "2              魔比斯 動作 奧斯卡 雷托領 治療 實驗 結果\n",
       "3    捍衛戰士獨行俠 動作 捍衛戰士 任務 1986 湯姆克魯斯 獨行俠\n",
       "4           魔鬼剋星未來世 動作 魔鬼 星未來 童星 保羅 續集\n",
       "Name: keywords, dtype: object"
      ]
     },
     "metadata": {},
     "execution_count": 4
    }
   ],
   "metadata": {}
  },
  {
   "cell_type": "code",
   "execution_count": 5,
   "source": [
    "#split Data to train and test\n",
    "rng = RandomState()\n",
    "train = df.sample(frac=0.9173, random_state=rng)\n",
    "test = df.loc[~df.index.isin(train.index)]\n",
    "test['類別'].to_csv('test.csv')"
   ],
   "outputs": [],
   "metadata": {}
  },
  {
   "cell_type": "code",
   "execution_count": 6,
   "source": [
    "# 將文件中的詞語轉換為詞頻矩陣\n",
    "cv = CountVectorizer()\n",
    "cv_train = cv.fit_transform(train['keywords'])\n",
    "cv_test = cv.transform(test['keywords'])\n",
    "#print(cv_train[0:3])"
   ],
   "outputs": [],
   "metadata": {}
  },
  {
   "cell_type": "code",
   "execution_count": 7,
   "source": [
    "from sklearn.feature_extraction.text import TfidfTransformer\n",
    "#類調用\n",
    "transformer = TfidfTransformer()\n",
    "#將詞頻矩陣X統計成TF-IDF值\n",
    "tfidf_train = transformer.fit_transform(cv_train)\n",
    "tfidf_test = transformer.transform(cv_test)\n",
    "#print(tfidf)"
   ],
   "outputs": [],
   "metadata": {}
  },
  {
   "cell_type": "code",
   "execution_count": 8,
   "source": [
    "from sklearn.neighbors import KNeighborsClassifier\n",
    "knn  = KNeighborsClassifier(n_neighbors=9,algorithm='brute',n_jobs=-1)\n",
    "knn.fit(tfidf_train,train['類別'])"
   ],
   "outputs": [
    {
     "output_type": "execute_result",
     "data": {
      "text/plain": [
       "KNeighborsClassifier(algorithm='brute', n_jobs=-1, n_neighbors=9)"
      ]
     },
     "metadata": {},
     "execution_count": 8
    }
   ],
   "metadata": {}
  },
  {
   "cell_type": "code",
   "execution_count": 9,
   "source": [
    "knn.score(tfidf_train,train['類別'])"
   ],
   "outputs": [
    {
     "output_type": "execute_result",
     "data": {
      "text/plain": [
       "0.7963564213564214"
      ]
     },
     "metadata": {},
     "execution_count": 9
    }
   ],
   "metadata": {}
  },
  {
   "cell_type": "code",
   "execution_count": 10,
   "source": [
    "knn.predict(tfidf_test)"
   ],
   "outputs": [
    {
     "output_type": "execute_result",
     "data": {
      "text/plain": [
       "array(['動作', '劇情', '動作', '動作', '動畫', '劇情', '戰爭', '動作', '動作', '動作', '劇情',\n",
       "       '動作', '喜劇', '動作', '動作', '劇情', '動作', '動作', '冒險', '劇情', '愛情', '劇情',\n",
       "       '戰爭', '冒險', '動作', '動作', '動作', '動作', '動作', '動作', '劇情', '動作', '劇情',\n",
       "       '動作', '動作', '動作', '冒險', '動作', '動作', '劇情', '動作', '動畫', '動作', '動作',\n",
       "       '動作', '動作', '動作', '動作', '動作', '劇情', '動作', '劇情', '動作', '動作', '劇情',\n",
       "       '動作', '動畫', '動作', '戰爭', '動作', '動畫', '動作', '動作', '動作', '溫馨/家庭',\n",
       "       '劇情', '動作', '冒險', '冒險', '動畫', '冒險', '劇情', '溫馨/家庭', '歷史/傳記', '冒險',\n",
       "       '動畫', '科幻', '冒險', '冒險', '冒險', '劇情', '劇情', '劇情', '動作', '動作', '劇情',\n",
       "       '冒險', '冒險', '動作', '冒險', '劇情', '動作', '冒險', '動作', '動作', '動作', '動作',\n",
       "       '劇情', '冒險', '冒險', '動作', '動作', '動作', '冒險', '動作', '科幻', '科幻', '動畫',\n",
       "       '恐怖', '劇情', '動作', '科幻', '科幻', '劇情', '科幻', '劇情', '動作', '恐怖', '動作',\n",
       "       '動作', '冒險', '恐怖', '愛情', '劇情', '劇情', '奇幻', '奇幻', '劇情', '奇幻', '奇幻',\n",
       "       '奇幻', '動作', '劇情', '動作', '喜劇', '奇幻', '劇情', '恐怖', '劇情', '歷史/傳記',\n",
       "       '劇情', '恐怖', '劇情', '喜劇', '劇情', '劇情', '劇情', '劇情', '劇情', '動畫', '劇情',\n",
       "       '音樂/歌舞', '愛情', '劇情', '歷史/傳記', '劇情', '劇情', '劇情', '劇情', '劇情', '劇情',\n",
       "       '劇情', '劇情', '劇情', '音樂/歌舞', '動作', '劇情', '劇情', '動作', '歷史/傳記', '劇情',\n",
       "       '動作', '劇情', '劇情', '音樂/歌舞', '劇情', '劇情', '動作', '劇情', '音樂/歌舞', '劇情',\n",
       "       '劇情', '劇情', '歷史/傳記', '劇情', '歷史/傳記', '劇情', '劇情', '劇情', '劇情',\n",
       "       '歷史/傳記', '歷史/傳記', '劇情', '愛情', '劇情', '劇情', '劇情', '劇情', '劇情',\n",
       "       '歷史/傳記', '劇情', '劇情', '劇情', '喜劇', '劇情', '劇情', '動作', '劇情', '恐怖',\n",
       "       '劇情', '劇情', '動作', '劇情', '恐怖', '愛情', '劇情', '劇情', '劇情', '犯罪', '劇情',\n",
       "       '恐怖', '劇情', '動作', '動作', '犯罪', '恐怖', '劇情', '犯罪', '犯罪', '犯罪', '劇情',\n",
       "       '動作', '犯罪', '劇情', '動作', '動作', '動作', '動作', '劇情', '動作', '劇情', '劇情',\n",
       "       '動作', '犯罪', '喜劇', '劇情', '劇情', '恐怖', '動畫', '恐怖', '恐怖', '劇情', '恐怖',\n",
       "       '恐怖', '劇情', '恐怖', '恐怖', '恐怖', '恐怖', '劇情', '恐怖', '恐怖', '恐怖', '恐怖',\n",
       "       '恐怖', '恐怖', '恐怖', '恐怖', '恐怖', '動作', '恐怖', '恐怖', '恐怖', '恐怖', '恐怖',\n",
       "       '恐怖', '恐怖', '劇情', '影展', '恐怖', '恐怖', '恐怖', '恐怖', '恐怖', '劇情', '恐怖',\n",
       "       '恐怖', '動畫', '劇情', '恐怖', '恐怖', '劇情', '恐怖', '恐怖', '劇情', '恐怖', '劇情',\n",
       "       '恐怖', '恐怖', '懸疑/驚悚', '懸疑/驚悚', '懸疑/驚悚', '懸疑/驚悚', '懸疑/驚悚', '劇情',\n",
       "       '劇情', '懸疑/驚悚', '劇情', '劇情', '劇情', '冒險', '劇情', '劇情', '劇情', '劇情',\n",
       "       '劇情', '懸疑/驚悚', '懸疑/驚悚', '劇情', '劇情', '劇情', '喜劇', '溫馨/家庭', '劇情',\n",
       "       '劇情', '劇情', '劇情', '喜劇', '劇情', '劇情', '喜劇', '喜劇', '動作', '劇情', '劇情',\n",
       "       '喜劇', '喜劇', '動作', '劇情', '喜劇', '劇情', '戰爭', '喜劇', '劇情', '劇情', '喜劇',\n",
       "       '劇情', '劇情', '恐怖', '喜劇', '劇情', '劇情', '劇情', '劇情', '動作', '喜劇', '劇情',\n",
       "       '懸疑/驚悚', '喜劇', '冒險', '喜劇', '劇情', '喜劇', '恐怖', '動畫', '愛情', '愛情',\n",
       "       '愛情', '劇情', '愛情', '愛情', '喜劇', '劇情', '恐怖', '劇情', '喜劇', '劇情', '劇情',\n",
       "       '愛情', '愛情', '愛情', '愛情', '動畫', '音樂/歌舞', '愛情', '劇情', '劇情', '劇情',\n",
       "       '劇情', '劇情', '愛情', '恐怖', '劇情', '劇情', '愛情', '劇情', '劇情', '劇情', '劇情',\n",
       "       '劇情', '愛情', '劇情', '劇情', '劇情', '劇情', '喜劇', '劇情', '愛情', '劇情', '劇情',\n",
       "       '劇情', '溫馨/家庭', '恐怖', '劇情', '劇情', '劇情', '劇情', '劇情', '溫馨/家庭', '冒險',\n",
       "       '劇情', '劇情', '動作', '溫馨/家庭', '劇情', '劇情', '劇情', '喜劇', '劇情', '溫馨/家庭',\n",
       "       '動畫', '動畫', '動畫', '動作', '動畫', '動畫', '動畫', '動畫', '動畫', '動畫', '動畫',\n",
       "       '動畫', '動畫', '動作', '動畫', '動畫', '動畫', '劇情', '動畫', '劇情', '懸疑/驚悚',\n",
       "       '劇情', '動畫', '動畫', '劇情', '動畫', '動畫', '喜劇', '劇情', '動畫', '奇幻', '劇情',\n",
       "       '動畫', '戰爭', '動作', '歷史/傳記', '劇情', '戰爭', '音樂/歌舞', '音樂/歌舞', '音樂/歌舞',\n",
       "       '音樂/歌舞', '劇情', '劇情', '音樂/歌舞', '音樂/歌舞', '音樂/歌舞', '歷史/傳記', '劇情',\n",
       "       '劇情', '劇情', '劇情', '紀錄片', '劇情', '紀錄片', '紀錄片', '紀錄片', '劇情', '紀錄片',\n",
       "       '劇情', '紀錄片', '劇情', '劇情', '劇情', '紀錄片', '音樂/歌舞', '冒險', '紀錄片', '影展',\n",
       "       '影展'], dtype=object)"
      ]
     },
     "metadata": {},
     "execution_count": 10
    }
   ],
   "metadata": {}
  },
  {
   "cell_type": "code",
   "execution_count": 11,
   "source": [
    "Accuracy = knn.score(tfidf_test,test['類別'])\n",
    "print(Accuracy*100 , '%')"
   ],
   "outputs": [
    {
     "output_type": "stream",
     "name": "stdout",
     "text": [
      "70.8 %\n"
     ]
    }
   ],
   "metadata": {}
  }
 ],
 "metadata": {
  "orig_nbformat": 4,
  "language_info": {
   "name": "python",
   "version": "3.7.6",
   "mimetype": "text/x-python",
   "codemirror_mode": {
    "name": "ipython",
    "version": 3
   },
   "pygments_lexer": "ipython3",
   "nbconvert_exporter": "python",
   "file_extension": ".py"
  },
  "kernelspec": {
   "name": "python3",
   "display_name": "Python 3.7.6 64-bit ('3.7.6': pyenv)"
  },
  "interpreter": {
   "hash": "7fc41b1a7acd303dd356c32eae0bc8ee4149514fe8a099b2279ea3ac2a654e9b"
  }
 },
 "nbformat": 4,
 "nbformat_minor": 2
}