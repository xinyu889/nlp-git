{
 "cells": [
  {
   "cell_type": "code",
   "execution_count": 343,
   "source": [
    "from numpy.random import RandomState\n",
    "import pandas as pd\n",
    "import numpy as np\n",
    "from sklearn.feature_extraction.text import CountVectorizer\n",
    "import jieba\n",
    "import jieba.analyse\n",
    "\n",
    "df = pd.read_csv('movies.csv')\n",
    "#str -> dict\n",
    "df['類別'] = df['類別'].apply(eval)\n",
    "\n",
    "# list first catagory\n",
    "def list_genres(x):\n",
    "    for d in x.values():\n",
    "        return(d)\n",
    "\n",
    "df['類別'] = df['類別'].apply(list_genres)"
   ],
   "outputs": [],
   "metadata": {}
  },
  {
   "cell_type": "code",
   "execution_count": 344,
   "source": [
    "#split overview\n",
    "overview = []\n",
    "for d in df['劇情介紹']:\n",
    "    keywords = jieba.analyse.extract_tags(d, topK=8)\n",
    "    overview.append(keywords)\n",
    "\n",
    "df['關鍵字'] = overview\n",
    "df['關鍵字'].head()\n"
   ],
   "outputs": [
    {
     "output_type": "execute_result",
     "data": {
      "text/plain": [
       "0              [電影, 這部, 小小, 動畫, 超級, 格魯, 導演, 克里斯]\n",
       "1             [蝙蝠, 一個, 布魯斯, 韋恩, 並從, 中檢視, 靈魂, 伯派]\n",
       "2             [奧斯卡, 雷托領, 治療, 實驗, 結果, 瑞德, 比斯, 宇宙]\n",
       "3    [捍衛戰士, 任務, 1986, 湯姆克魯斯, 獨行俠, 派拉蒙, 金斯基, 珍妮佛]\n",
       "4              [魔鬼, 星未來, 童星, 保羅, 續集, 他們, 特曼, 系列]\n",
       "Name: 關鍵字, dtype: object"
      ]
     },
     "metadata": {},
     "execution_count": 344
    }
   ],
   "metadata": {}
  },
  {
   "cell_type": "code",
   "execution_count": 346,
   "source": [
    "import re\n",
    "df['keywords'] = ''\n",
    "def bag_words(x):\n",
    "    return (''.join(re.sub('[^\\u4e00-\\u9fa5]+', '', x['中文名稱'])) + ' ' + ''.join(x['類別']) + ' ' +  ' '.join(x['關鍵字']))\n",
    "df['keywords'] = df.apply(bag_words, axis = 1)\n",
    "\n",
    "df['keywords'].head()\n",
    "#print(df['keywords'])"
   ],
   "outputs": [
    {
     "output_type": "execute_result",
     "data": {
      "text/plain": [
       "0             小小兵格魯的崛起 動畫 電影 這部 小小 動畫 超級 格魯 導演 克里斯\n",
       "1                 蝙蝠俠 動作 蝙蝠 一個 布魯斯 韋恩 並從 中檢視 靈魂 伯派\n",
       "2                 魔比斯 動作 奧斯卡 雷托領 治療 實驗 結果 瑞德 比斯 宇宙\n",
       "3    捍衛戰士獨行俠 動作 捍衛戰士 任務 1986 湯姆克魯斯 獨行俠 派拉蒙 金斯基 珍妮佛\n",
       "4              魔鬼剋星未來世 動作 魔鬼 星未來 童星 保羅 續集 他們 特曼 系列\n",
       "Name: keywords, dtype: object"
      ]
     },
     "metadata": {},
     "execution_count": 346
    }
   ],
   "metadata": {}
  },
  {
   "cell_type": "code",
   "execution_count": 347,
   "source": [
    "#split Data to train and test\n",
    "rng = RandomState()\n",
    "train = df.sample(frac=0.9173, random_state=rng)\n",
    "test = df.loc[~df.index.isin(train.index)]\n",
    "test['類別'].to_csv('test.csv')"
   ],
   "outputs": [],
   "metadata": {}
  },
  {
   "cell_type": "code",
   "execution_count": 350,
   "source": [
    "# 將文件中的詞語轉換為詞頻矩陣\n",
    "cv = CountVectorizer()\n",
    "cv_train = cv.fit_transform(train['keywords'])\n",
    "cv_test = cv.transform(test['keywords'])\n",
    "#cv_mx.toarray()"
   ],
   "outputs": [],
   "metadata": {}
  },
  {
   "cell_type": "code",
   "execution_count": 351,
   "source": [
    "from sklearn.feature_extraction.text import TfidfTransformer\n",
    "#類調用\n",
    "transformer = TfidfTransformer()\n",
    "\n",
    "#將詞頻矩陣X統計成TF-IDF值\n",
    "\n",
    "tfidf_train = transformer.fit_transform(cv_train)\n",
    "tfidf_test = transformer.transform(cv_test)\n",
    "#print(tfidf)"
   ],
   "outputs": [],
   "metadata": {}
  },
  {
   "cell_type": "code",
   "execution_count": 366,
   "source": [
    "from sklearn.neighbors import KNeighborsClassifier\n",
    "knn  = KNeighborsClassifier(n_neighbors=11,p=2,n_jobs=2)\n",
    "knn.fit(tfidf_train,train['類別'])"
   ],
   "outputs": [
    {
     "output_type": "execute_result",
     "data": {
      "text/plain": [
       "KNeighborsClassifier(n_jobs=2, n_neighbors=13)"
      ]
     },
     "metadata": {},
     "execution_count": 366
    }
   ],
   "metadata": {}
  },
  {
   "cell_type": "code",
   "execution_count": 367,
   "source": [
    "knn.score(tfidf_train,train['類別'])"
   ],
   "outputs": [
    {
     "output_type": "execute_result",
     "data": {
      "text/plain": [
       "0.7967171717171717"
      ]
     },
     "metadata": {},
     "execution_count": 367
    }
   ],
   "metadata": {}
  },
  {
   "cell_type": "code",
   "execution_count": 360,
   "source": [
    "knn.predict(tfidf_test)"
   ],
   "outputs": [
    {
     "output_type": "execute_result",
     "data": {
      "text/plain": [
       "array(['動作', '動作', '動作', '動畫', '劇情', '劇情', '動作', '動作', '動作', '動作', '動作',\n",
       "       '動作', '動作', '動作', '動作', '動作', '劇情', '動作', '劇情', '動作', '動作', '動作',\n",
       "       '劇情', '動作', '動作', '動作', '劇情', '動作', '動作', '動作', '劇情', '動作', '動作',\n",
       "       '動作', '動作', '動作', '動作', '動作', '動作', '動作', '動作', '動作', '動作', '動作',\n",
       "       '動作', '動作', '動作', '動作', '動作', '劇情', '動作', '奇幻', '動作', '動作', '動作',\n",
       "       '動作', '愛情', '劇情', '動畫', '溫馨/家庭', '動作', '劇情', '動畫', '影展', '動作',\n",
       "       '喜劇', '冒險', '動作', '冒險', '動作', '冒險', '冒險', '溫馨/家庭', '動作', '動作',\n",
       "       '動作', '劇情', '冒險', '劇情', '動作', '劇情', '動作', '動作', '動作', '冒險', '動作',\n",
       "       '動作', '劇情', '動作', '恐怖', '動作', '冒險', '溫馨/家庭', '動作', '動作', '動畫',\n",
       "       '動作', '恐怖', '恐怖', '動作', '科幻', '劇情', '動作', '劇情', '動作', '科幻', '劇情',\n",
       "       '科幻', '科幻', '劇情', '動作', '動作', '動作', '動作', '科幻', '動作', '恐怖', '奇幻',\n",
       "       '劇情', '奇幻', '劇情', '動畫', '奇幻', '奇幻', '奇幻', '劇情', '劇情', '音樂/歌舞',\n",
       "       '奇幻', '奇幻', '冒險', '奇幻', '音樂/歌舞', '劇情', '動作', '喜劇', '奇幻', '奇幻',\n",
       "       '動作', '冒險', '劇情', '動作', '動作', '恐怖', '恐怖', '劇情', '劇情', '愛情', '劇情',\n",
       "       '愛情', '劇情', '劇情', '溫馨/家庭', '劇情', '劇情', '劇情', '劇情', '冒險', '劇情',\n",
       "       '愛情', '劇情', '劇情', '劇情', '劇情', '劇情', '懸疑/驚悚', '劇情', '劇情', '劇情',\n",
       "       '劇情', '劇情', '劇情', '劇情', '劇情', '劇情', '歷史/傳記', '劇情', '劇情', '動作',\n",
       "       '劇情', '劇情', '音樂/歌舞', '劇情', '劇情', '劇情', '劇情', '溫馨/家庭', '劇情', '喜劇',\n",
       "       '愛情', '劇情', '劇情', '劇情', '恐怖', '劇情', '劇情', '冒險', '劇情', '劇情',\n",
       "       '溫馨/家庭', '劇情', '劇情', '劇情', '劇情', '影展', '劇情', '劇情', '劇情', '劇情',\n",
       "       '喜劇', '劇情', '劇情', '劇情', '劇情', '動作', '劇情', '犯罪', '動作', '劇情', '劇情',\n",
       "       '動作', '劇情', '劇情', '劇情', '動作', '恐怖', '劇情', '動作', '劇情', '劇情', '劇情',\n",
       "       '劇情', '動作', '劇情', '劇情', '動作', '劇情', '劇情', '動作', '冒險', '動作', '劇情',\n",
       "       '劇情', '劇情', '劇情', '劇情', '劇情', '劇情', '恐怖', '動作', '恐怖', '恐怖', '恐怖',\n",
       "       '恐怖', '恐怖', '恐怖', '恐怖', '劇情', '恐怖', '劇情', '恐怖', '動作', '動作', '恐怖',\n",
       "       '恐怖', '恐怖', '恐怖', '恐怖', '劇情', '恐怖', '恐怖', '恐怖', '恐怖', '恐怖', '劇情',\n",
       "       '恐怖', '恐怖', '恐怖', '恐怖', '恐怖', '恐怖', '恐怖', '恐怖', '恐怖', '劇情', '恐怖',\n",
       "       '動作', '恐怖', '恐怖', '愛情', '恐怖', '劇情', '劇情', '劇情', '恐怖', '恐怖', '恐怖',\n",
       "       '恐怖', '動作', '動作', '恐怖', '劇情', '懸疑/驚悚', '懸疑/驚悚', '懸疑/驚悚', '懸疑/驚悚',\n",
       "       '劇情', '奇幻', '懸疑/驚悚', '懸疑/驚悚', '恐怖', '恐怖', '懸疑/驚悚', '劇情', '懸疑/驚悚',\n",
       "       '劇情', '懸疑/驚悚', '懸疑/驚悚', '劇情', '動作', '劇情', '懸疑/驚悚', '劇情', '懸疑/驚悚',\n",
       "       '動作', '劇情', '劇情', '劇情', '劇情', '劇情', '音樂/歌舞', '劇情', '劇情', '劇情',\n",
       "       '愛情', '劇情', '動作', '劇情', '喜劇', '奇幻', '劇情', '動作', '劇情', '劇情', '劇情',\n",
       "       '劇情', '喜劇', '劇情', '喜劇', '愛情', '恐怖', '劇情', '劇情', '劇情', '劇情', '劇情',\n",
       "       '劇情', '喜劇', '動作', '動作', '劇情', '劇情', '喜劇', '動作', '喜劇', '犯罪', '劇情',\n",
       "       '喜劇', '動作', '喜劇', '喜劇', '劇情', '愛情', '喜劇', '愛情', '愛情', '動畫', '劇情',\n",
       "       '劇情', '劇情', '動作', '喜劇', '愛情', '動作', '劇情', '愛情', '劇情', '劇情', '劇情',\n",
       "       '劇情', '愛情', '愛情', '劇情', '劇情', '恐怖', '劇情', '劇情', '劇情', '劇情', '劇情',\n",
       "       '劇情', '劇情', '愛情', '冒險', '劇情', '劇情', '劇情', '動作', '劇情', '劇情', '劇情',\n",
       "       '劇情', '溫馨/家庭', '劇情', '劇情', '劇情', '劇情', '劇情', '劇情', '愛情', '溫馨/家庭',\n",
       "       '溫馨/家庭', '劇情', '喜劇', '喜劇', '喜劇', '劇情', '動作', '動畫', '動畫', '動畫',\n",
       "       '動畫', '動畫', '動畫', '動畫', '劇情', '動畫', '冒險', '動作', '動畫', '動畫', '喜劇',\n",
       "       '劇情', '冒險', '劇情', '劇情', '劇情', '劇情', '劇情', '音樂/歌舞', '音樂/歌舞', '劇情',\n",
       "       '音樂/歌舞', '音樂/歌舞', '音樂/歌舞', '音樂/歌舞', '音樂/歌舞', '音樂/歌舞', '動作',\n",
       "       '音樂/歌舞', '音樂/歌舞', '音樂/歌舞', '劇情', '歷史/傳記', '歷史/傳記', '劇情', '歷史/傳記',\n",
       "       '劇情', '歷史/傳記', '劇情', '劇情', '劇情', '劇情', '紀錄片', '劇情', '紀錄片', '劇情',\n",
       "       '劇情', '劇情', '劇情', '紀錄片', '紀錄片', '劇情', '紀錄片', '劇情', '紀錄片', '紀錄片',\n",
       "       '紀錄片', '紀錄片', '劇情', '紀錄片', '紀錄片', '紀錄片', '劇情', '動作', '劇情', '劇情',\n",
       "       '劇情', '劇情', '影展'], dtype=object)"
      ]
     },
     "metadata": {},
     "execution_count": 360
    }
   ],
   "metadata": {}
  },
  {
   "cell_type": "code",
   "execution_count": 361,
   "source": [
    "knn.score(tfidf_test,test['類別'])"
   ],
   "outputs": [
    {
     "output_type": "execute_result",
     "data": {
      "text/plain": [
       "0.644"
      ]
     },
     "metadata": {},
     "execution_count": 361
    }
   ],
   "metadata": {}
  }
 ],
 "metadata": {
  "orig_nbformat": 4,
  "language_info": {
   "name": "python",
   "version": "3.7.6",
   "mimetype": "text/x-python",
   "codemirror_mode": {
    "name": "ipython",
    "version": 3
   },
   "pygments_lexer": "ipython3",
   "nbconvert_exporter": "python",
   "file_extension": ".py"
  },
  "kernelspec": {
   "name": "python3",
   "display_name": "Python 3.7.6 64-bit ('3.7.6': pyenv)"
  },
  "interpreter": {
   "hash": "7fc41b1a7acd303dd356c32eae0bc8ee4149514fe8a099b2279ea3ac2a654e9b"
  }
 },
 "nbformat": 4,
 "nbformat_minor": 2
}