{
 "cells": [
  {
   "cell_type": "code",
   "execution_count": 297,
   "source": [
    "from numpy.random import RandomState\n",
    "import pandas as pd\n",
    "import numpy as np\n",
    "from rake_nltk import Rake\n",
    "from sklearn.metrics.pairwise import cosine_similarity\n",
    "from sklearn.feature_extraction.text import CountVectorizer\n",
    "import jieba\n",
    "import jieba.analyse\n",
    "\n",
    "df = pd.read_csv('movies.csv')\n",
    "#str -> dict\n",
    "df['類別'] = df['類別'].apply(eval)\n",
    "\n",
    "# list first catagory\n",
    "def list_genres(x):\n",
    "    for d in x.values():\n",
    "        return(d)\n",
    "\n",
    "df['類別'] = df['類別'].apply(list_genres)"
   ],
   "outputs": [],
   "metadata": {}
  },
  {
   "cell_type": "code",
   "execution_count": 298,
   "source": [
    "#split overview\n",
    "overview = []\n",
    "for d in df['劇情介紹']:\n",
    "    keywords = jieba.analyse.extract_tags(d, topK=8)\n",
    "    overview.append(keywords)\n",
    "\n",
    "df['關鍵字'] = overview\n",
    "df['關鍵字'].head()\n"
   ],
   "outputs": [
    {
     "output_type": "execute_result",
     "data": {
      "text/plain": [
       "0              [電影, 這部, 小小, 動畫, 超級, 格魯, 導演, 克里斯]\n",
       "1             [蝙蝠, 一個, 布魯斯, 韋恩, 並從, 中檢視, 靈魂, 伯派]\n",
       "2             [奧斯卡, 雷托領, 治療, 實驗, 結果, 瑞德, 比斯, 宇宙]\n",
       "3    [捍衛戰士, 任務, 1986, 湯姆克魯斯, 獨行俠, 派拉蒙, 金斯基, 珍妮佛]\n",
       "4              [魔鬼, 星未來, 童星, 保羅, 續集, 他們, 特曼, 系列]\n",
       "Name: 關鍵字, dtype: object"
      ]
     },
     "metadata": {},
     "execution_count": 298
    }
   ],
   "metadata": {}
  },
  {
   "cell_type": "code",
   "execution_count": 299,
   "source": [
    "#unique genres\n",
    "genreList = []\n",
    "for genre in df['類別']:\n",
    "    if genre not in genreList:\n",
    "        genreList.append(genre)\n",
    "\n",
    "genreList\n"
   ],
   "outputs": [
    {
     "output_type": "execute_result",
     "data": {
      "text/plain": [
       "['動畫',\n",
       " '動作',\n",
       " '愛情',\n",
       " '戰爭',\n",
       " '歷史/傳記',\n",
       " '勵志',\n",
       " '戲劇',\n",
       " '溫馨/家庭',\n",
       " '冒險',\n",
       " '音樂/歌舞',\n",
       " '科幻',\n",
       " '奇幻',\n",
       " '武俠',\n",
       " '劇情',\n",
       " '犯罪',\n",
       " '恐怖',\n",
       " '影展',\n",
       " '懸疑/驚悚',\n",
       " '喜劇',\n",
       " '紀錄片']"
      ]
     },
     "metadata": {},
     "execution_count": 299
    }
   ],
   "metadata": {}
  },
  {
   "cell_type": "code",
   "execution_count": 301,
   "source": [
    "import re\n",
    "df['keywords'] = ''\n",
    "def bag_words(x):\n",
    "    return (''.join(re.sub('[^\\u4e00-\\u9fa5]+', '', x['中文名稱'])) + ' ' + ''.join(x['類別']) + ' ' +  ' '.join(x['關鍵字']))\n",
    "df['keywords'] = df.apply(bag_words, axis = 1)\n",
    "\n",
    "df['keywords'].head()\n",
    "#print(df['keywords'])"
   ],
   "outputs": [
    {
     "output_type": "execute_result",
     "data": {
      "text/plain": [
       "0            小小兵2：格魯的崛起 動畫 電影 這部 小小 動畫 超級 格魯 導演 克里斯\n",
       "1                  蝙蝠俠 動作 蝙蝠 一個 布魯斯 韋恩 並從 中檢視 靈魂 伯派\n",
       "2                  魔比斯 動作 奧斯卡 雷托領 治療 實驗 結果 瑞德 比斯 宇宙\n",
       "3    捍衛戰士：獨行俠 動作 捍衛戰士 任務 1986 湯姆克魯斯 獨行俠 派拉蒙 金斯基 珍妮佛\n",
       "4              魔鬼剋星：未來世 動作 魔鬼 星未來 童星 保羅 續集 他們 特曼 系列\n",
       "Name: keywords, dtype: object"
      ]
     },
     "metadata": {},
     "execution_count": 301
    }
   ],
   "metadata": {}
  },
  {
   "cell_type": "code",
   "execution_count": 302,
   "source": [
    "#split Data to train and test\n",
    "rng = RandomState()\n",
    "train = df.sample(frac=0.9173, random_state=rng)\n",
    "test = df.loc[~df.index.isin(train.index)]"
   ],
   "outputs": [],
   "metadata": {}
  },
  {
   "cell_type": "code",
   "execution_count": 312,
   "source": [
    "# 將文件中的詞語轉換為詞頻矩陣\n",
    "from sklearn.neighbors import KNeighborsClassifier\n",
    "cv = CountVectorizer()\n",
    "cv_mx = cv.fit_transform(train['keywords'])\n",
    "cosine_sim = cosine_similarity(cv_mx, cv_mx)\n",
    "print(cosine_sim)"
   ],
   "outputs": [
    {
     "output_type": "stream",
     "name": "stdout",
     "text": [
      "[[1.         0.         0.         ... 0.         0.         0.        ]\n",
      " [0.         1.         0.09534626 ... 0.         0.         0.        ]\n",
      " [0.         0.09534626 1.         ... 0.         0.09534626 0.        ]\n",
      " ...\n",
      " [0.         0.         0.         ... 1.         0.         0.        ]\n",
      " [0.         0.         0.09534626 ... 0.         1.         0.        ]\n",
      " [0.         0.         0.         ... 0.         0.         1.        ]]\n"
     ]
    }
   ],
   "metadata": {}
  }
 ],
 "metadata": {
  "orig_nbformat": 4,
  "language_info": {
   "name": "python",
   "version": "3.7.6",
   "mimetype": "text/x-python",
   "codemirror_mode": {
    "name": "ipython",
    "version": 3
   },
   "pygments_lexer": "ipython3",
   "nbconvert_exporter": "python",
   "file_extension": ".py"
  },
  "kernelspec": {
   "name": "python3",
   "display_name": "Python 3.7.6 64-bit ('3.7.6': pyenv)"
  },
  "interpreter": {
   "hash": "7fc41b1a7acd303dd356c32eae0bc8ee4149514fe8a099b2279ea3ac2a654e9b"
  }
 },
 "nbformat": 4,
 "nbformat_minor": 2
}