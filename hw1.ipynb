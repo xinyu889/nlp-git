{
 "cells": [
  {
   "cell_type": "code",
   "execution_count": 1,
   "id": "55f2a612",
   "metadata": {},
   "outputs": [],
   "source": [
    "# %load hw1.py\n",
    "import urllib.request\n",
    "from numpy.lib.function_base import append  # lib that handles URLs\n",
    "import pandas as pd\n",
    "import re\n",
    "import jieba\n",
    "import jieba.analyse\n",
    "import math"
   ]
  },
  {
   "cell_type": "code",
   "execution_count": 2,
   "id": "6076a314",
   "metadata": {},
   "outputs": [],
   "source": [
    "target_url = \"https://raw.githubusercontent.com/cjwu/cjwu.github.io/master/courses/nlp/hw1-dataset.txt\"\n",
    "data = urllib.request.urlopen(target_url)\n",
    "\n",
    "with open('output.txt', 'a+') as f:\n",
    "    for line in data:\n",
    "        decoded_line = line.decode(\"utf-8\")\n",
    "        f.write(decoded_line)"
   ]
  },
  {
   "cell_type": "code",
   "execution_count": 3,
   "id": "f50a8f79",
   "metadata": {},
   "outputs": [],
   "source": [
    "df = pd.read_fwf('./output.txt',header = None)\n",
    "df.columns = ['content']\n",
    "df.to_csv('./log.csv', encoding = 'utf-8',index = True)"
   ]
  },
  {
   "cell_type": "code",
   "execution_count": 15,
   "id": "3b09cba3",
   "metadata": {},
   "outputs": [],
   "source": [
    "class WordSegment:\n",
    "    def __init__(self,texts,stop_words_path,dicts_path=\"\"):\n",
    "        self.jieba = jieba\n",
    "        self.texts = texts\n",
    "        self.dicts_path = dicts_path\n",
    "        self.stop_words_path = stop_words_path\n",
    "        \n",
    "    def read_dictionary(self): \n",
    "        #讀取類別\n",
    "        if self.dicts_path:\n",
    "            for dic in self.dicts_path:\n",
    "                self.jieba.load_userdict(dic)\n",
    "\n",
    "    def read_stop_words(self):\n",
    "        #讀取stopword\n",
    "        self.stop_words = set()\n",
    "        if stop_words_path:\n",
    "            with open(stop_words_path,encoding = 'UTF-8') as file:\n",
    "                self.stop_words = self.stop_words | set(map(str.strip,file.readlines()))\n",
    "        \n",
    "    def remove_stop_words(self):\n",
    "        # 去除繁體中文以外的英文、數字、符號\n",
    "        jieba.set_dictionary('./dict.txt.big')\n",
    "        rule = re.compile(r\"[^\\u4e00-\\u9fa5]\")\n",
    "        self.texts = [list(self.jieba.cut(rule.sub('', text))) for text in self.texts]\n",
    "        for idx, speech in enumerate(self.texts):\n",
    "            self.texts[idx] = ' '.join([word for word in speech if word.strip() not in self.stop_words])"
   ]
  },
  {
   "cell_type": "code",
   "execution_count": 8,
   "id": "274fc81d",
   "metadata": {},
   "outputs": [],
   "source": [
    "topic = {}\n",
    "with open('log.csv', newline='') as f:\n",
    "    contents = \"\"\n",
    "    for i,line in enumerate(f.readlines()):\n",
    "        if i==0:continue\n",
    "        ind, content = line.split(\",\",1)\n",
    "        contents = content\n",
    "        topic[ind] = content\n",
    "#print(topic)"
   ]
  },
  {
   "cell_type": "code",
   "execution_count": 16,
   "id": "1bac17b4",
   "metadata": {},
   "outputs": [],
   "source": [
    "jieba.setLogLevel(jieba.logging.INFO)\n",
    "stop_words_path = './stop_words.txt'\n",
    "\n",
    "ws = WordSegment(topic.values(),stop_words_path)\n",
    "ws.read_stop_words()\n",
    "ws.remove_stop_words()\n",
    "text_files = [text.split(\" \") for text in ws.texts]"
   ]
  },
  {
   "cell_type": "code",
   "execution_count": 19,
   "id": "d60db7d7",
   "metadata": {},
   "outputs": [],
   "source": [
    "#計算每行詞次數\n",
    "words_count = []\n",
    "for file in text_files:\n",
    "    count = {}\n",
    "    for word in file:\n",
    "        if word in count:\n",
    "            count[word] += 1\n",
    "        else:\n",
    "            count[word] = 1\n",
    "    words_count.append(count)"
   ]
  },
  {
   "cell_type": "code",
   "execution_count": 20,
   "id": "c3c4342c",
   "metadata": {},
   "outputs": [],
   "source": [
    "#統計每個語詞的頻率(次數/全部語詞次數)tf\n",
    "words_frequency = []\n",
    "for word_count in words_count:\n",
    "    all_count = sum(word_count.values()) #該行所有語詞的數量\n",
    "    fre = {}\n",
    "    for word,count in word_count.items():\n",
    "        fre[word] = round(count/all_count,4)\n",
    "    words_frequency.append(fre)"
   ]
  },
  {
   "cell_type": "code",
   "execution_count": 66,
   "id": "3e08050d",
   "metadata": {},
   "outputs": [
    {
     "name": "stdout",
     "output_type": "stream",
     "text": [
      "高頻:\n",
      "0 八卦 0.18630709561408124\n",
      "1 有沒有 0.17173279898230998\n",
      "2 什麼 0.15150334049095893\n",
      "3 有 0.13694578218181644\n",
      "4 你 0.13388266914075017\n",
      "5 人 0.128552708977958\n",
      "6 在 0.11504727380548156\n",
      "7 我 0.11174025949182452\n",
      "8 會 0.09836394852248435\n",
      "9 不 0.08814400696314222\n",
      "10 要 0.08622149104977977\n",
      "11 好 0.08410289764276593\n",
      "12 跟 0.07631001286459653\n",
      "13 台灣 0.07578156010731656\n",
      "14 去 0.07413642211180244\n",
      "15 為 0.07209434675109158\n",
      "16 也 0.05700594449572216\n",
      "17 說 0.05646314460476038\n",
      "18 沒 0.05325177784898207\n",
      "19 可以 0.05287636118430806\n",
      "20 是不是 0.051130793253021264\n",
      "21 怎麼 0.0505043017489156\n",
      "22 到 0.04744836227469022\n",
      "23 想 0.04559279965184289\n",
      "24 肥宅 0.043703760383738\n",
      "25 吃 0.04021979808800532\n",
      "26 現在 0.04016719193117202\n",
      "27 看 0.03864639576090023\n",
      "28 真的 0.037070602244848185\n",
      "29 才 0.03313948761603244\n",
      "30 他 0.033067751947623396\n",
      "31 比較 0.03297210438974467\n",
      "32 不會 0.03270907360557816\n",
      "33 中國 0.032379089530896556\n",
      "34 知道 0.0321423618251467\n",
      "35 怎麼辦 0.0309085083285111\n",
      "36 自己 0.029567051329261934\n",
      "37 誰 0.029260979144050004\n",
      "38 沒有 0.028507754625755017\n",
      "39 多 0.028239941463694577\n",
      "40 不是 0.027962563545846267\n",
      "41 最 0.027065867690733186\n",
      "42 還是 0.026611541790809226\n",
      "43 就是 0.02571006355780221\n",
      "44 用 0.025253346468931282\n",
      "45 如果 0.024999880440552652\n",
      "46 一個 0.024732067278492212\n",
      "47 啦 0.02448099243906055\n",
      "48 把 0.02378276526654583\n",
      "49 一堆 0.023629729173939868\n",
      "50 這樣 0.023538863993955075\n",
      "51 上 0.0227019478625162\n",
      "52 一樣 0.022642168138841994\n",
      "53 阿 0.021876987675812167\n",
      "54 做 0.021463311987986667\n",
      "55 該 0.02144657366535789\n",
      "56 買 0.021240931415918624\n",
      "57 幹 0.021037680355426323\n",
      "58 又 0.020901382585449137\n",
      "59 覺得 0.020820082161252217\n",
      "60 喔 0.020552268999191776\n",
      "61 打 0.020356191505540387\n",
      "62 到底 0.02003098980875271\n",
      "63 怎樣 0.019677093844601413\n",
      "64 應該 0.019622096498821143\n",
      "65 能 0.019461886839374273\n",
      "66 卦 0.0192945036130865\n",
      "67 女生 0.019270591723616816\n",
      "68 對 0.01869431518739748\n",
      "69 大家 0.018596276440571782\n",
      "70 時候 0.01838585181323858\n",
      "71 那 0.018326072089564372\n",
      "72 喜歡 0.018314116144829532\n",
      "73 後 0.018165862430117502\n",
      "74 不要 0.01791956996857978\n",
      "75 有人 0.01769001582967083\n",
      "76 日本 0.017429376234451295\n",
      "77 很多 0.01739350840024677\n",
      "78 讓 0.017221342796065058\n",
      "79 叫 0.016788537596663815\n",
      "80 美國 0.016341385263580758\n",
      "81 中 0.015889450552603764\n",
      "82 大 0.01562881095738423\n",
      "83 這 0.015624028579490294\n",
      "84 小 0.015525989832664597\n",
      "85 再 0.015461427731096456\n",
      "86 比 0.01544229821952071\n",
      "87 哪 0.015394474440581346\n",
      "88 哪個 0.015372953740058632\n",
      "89 幹嘛 0.015038187287483082\n",
      "90 因為 0.01499992826433159\n",
      "91 呢 0.014925801406975577\n",
      "92 這麼 0.014739288669112055\n",
      "93 感覺 0.014634076355445455\n",
      "94 啥 0.014634076355445455\n",
      "95 看到 0.01461255565492274\n",
      "96 錢 0.014593426143346995\n",
      "97 問題 0.014579079009665185\n",
      "98 如何 0.014258659690771445\n",
      "99 朋友 0.013739771689279343\n"
     ]
    }
   ],
   "source": [
    "#idf \n",
    "#先取得包含該語詞的文件數量\n",
    "#就是該語詞在幾個文件中\"出現過\"\n",
    "all_words = []\n",
    "for word in words_count:\n",
    "    all_words.extend(list(word.keys()))\n",
    "    \n",
    "occurrences_of_word = {}\n",
    "for word in all_words:\n",
    "    if word in occurrences_of_word:\n",
    "        occurrences_of_word[word] += 1\n",
    "    else:\n",
    "        occurrences_of_word[word] = 1\n",
    "\n",
    "freq_word = []\n",
    "for word, freq in occurrences_of_word.items():\n",
    "\n",
    "    freq_word.append((word, freq))\n",
    "\n",
    "freq_word.sort(key = lambda x: x[1], reverse = True) #反序排列，根據第二個參數\n",
    "X = []\n",
    "Y = []\n",
    "i=0\n",
    "print('高頻:')\n",
    "for word, freq in freq_word[: 100]:\n",
    "    print(i,word, (freq/len(words_count)))\n",
    "    X.append(i)\n",
    "    Y.append(freq/len(words_count))\n",
    "    i = i+1"
   ]
  },
  {
   "cell_type": "code",
   "execution_count": 67,
   "id": "5a1ae190",
   "metadata": {},
   "outputs": [],
   "source": [
    "#文本數量/包含該語詞的數量\n",
    "#就是行數量/該語詞在幾個文章中\"出現過\"\n",
    "inverse_document_frequency = []     \n",
    "for word_count in words_count:\n",
    "    invFre = {} \n",
    "    for word in word_count.keys():\n",
    "        occurrences = occurrences_of_word[word]\n",
    "        invFre[word] = math.log(round((len(words_count)/occurrences),4))\n",
    "    inverse_document_frequency.append(invFre)\n",
    "\n",
    "#tf*idf\n",
    "all_tf_idf = []\n",
    "for i,words in enumerate(words_frequency):\n",
    "    tf_idf = {}\n",
    "    for word,freq in words.items():\n",
    "        tf_idf[word] = freq*inverse_document_frequency[i][word]\n",
    "    all_tf_idf.append(tf_idf)\n",
    "\n",
    "super_dict = {}\n",
    "for d in all_tf_idf:\n",
    "    for k, v in d.items():\n",
    "        super_dict[k] = v\n"
   ]
  },
  {
   "cell_type": "code",
   "execution_count": 68,
   "id": "d0d3f951",
   "metadata": {},
   "outputs": [
    {
     "name": "stdout",
     "output_type": "stream",
     "text": [
      "[0.18630709561408124, 0.17173279898230998, 0.15150334049095893, 0.13694578218181644, 0.13388266914075017, 0.128552708977958, 0.11504727380548156, 0.11174025949182452, 0.09836394852248435, 0.08814400696314222, 0.08622149104977977, 0.08410289764276593, 0.07631001286459653, 0.07578156010731656, 0.07413642211180244, 0.07209434675109158, 0.05700594449572216, 0.05646314460476038, 0.05325177784898207, 0.05287636118430806, 0.051130793253021264, 0.0505043017489156, 0.04744836227469022, 0.04559279965184289, 0.043703760383738, 0.04021979808800532, 0.04016719193117202, 0.03864639576090023, 0.037070602244848185, 0.03313948761603244, 0.033067751947623396, 0.03297210438974467, 0.03270907360557816, 0.032379089530896556, 0.0321423618251467, 0.0309085083285111, 0.029567051329261934, 0.029260979144050004, 0.028507754625755017, 0.028239941463694577, 0.027962563545846267, 0.027065867690733186, 0.026611541790809226, 0.02571006355780221, 0.025253346468931282, 0.024999880440552652, 0.024732067278492212, 0.02448099243906055, 0.02378276526654583, 0.023629729173939868, 0.023538863993955075, 0.0227019478625162, 0.022642168138841994, 0.021876987675812167, 0.021463311987986667, 0.02144657366535789, 0.021240931415918624, 0.021037680355426323, 0.020901382585449137, 0.020820082161252217, 0.020552268999191776, 0.020356191505540387, 0.02003098980875271, 0.019677093844601413, 0.019622096498821143, 0.019461886839374273, 0.0192945036130865, 0.019270591723616816, 0.01869431518739748, 0.018596276440571782, 0.01838585181323858, 0.018326072089564372, 0.018314116144829532, 0.018165862430117502, 0.01791956996857978, 0.01769001582967083, 0.017429376234451295, 0.01739350840024677, 0.017221342796065058, 0.016788537596663815, 0.016341385263580758, 0.015889450552603764, 0.01562881095738423, 0.015624028579490294, 0.015525989832664597, 0.015461427731096456, 0.01544229821952071, 0.015394474440581346, 0.015372953740058632, 0.015038187287483082, 0.01499992826433159, 0.014925801406975577, 0.014739288669112055, 0.014634076355445455, 0.014634076355445455, 0.01461255565492274, 0.014593426143346995, 0.014579079009665185, 0.014258659690771445, 0.013739771689279343]\n"
     ]
    }
   ],
   "source": [
    "print(Y)"
   ]
  },
  {
   "cell_type": "code",
   "execution_count": 69,
   "id": "a2aa6298",
   "metadata": {},
   "outputs": [
    {
     "data": {
      "text/plain": [
       "<BarContainer object of 100 artists>"
      ]
     },
     "execution_count": 69,
     "metadata": {},
     "output_type": "execute_result"
    },
    {
     "data": {
      "image/png": "[encoded data removed]",
      "text/plain": [
       "<Figure size 432x288 with 1 Axes>"
      ]
     },
     "metadata": {
      "needs_background": "light"
     },
     "output_type": "display_data"
    }
   ],
   "source": [
    "import matplotlib.pylab as plt\n",
    "plt.bar(X,Y)"
   ]
  },
  {
   "cell_type": "code",
   "execution_count": 63,
   "id": "ccb53683",
   "metadata": {},
   "outputs": [
    {
     "name": "stdout",
     "output_type": "stream",
     "text": [
      "weight hight:\n",
      "0 咪姆宅 12.943719848366\n",
      "1 收悉 12.943719848366\n",
      "2 戊戌 12.943719848366\n",
      "3 吉吉吉覆吉吉 12.943719848366\n",
      "4 曹長 12.943719848366\n",
      "5 圖咧文 12.943719848366\n",
      "6 喇喇喇喇喇喇喇 12.943719848366\n",
      "7 愛玩耍 12.943719848366\n",
      "8 偽鈔 12.943719848366\n",
      "9 角速度 12.943719848366\n",
      "10 推三小三小 12.943719848366\n",
      "11 斯洛伐克 12.250572667806054\n",
      "12 泰拉 12.250572667806054\n",
      "13 柔珠 11.557425487246109\n",
      "14 搖起來 11.151960378659707\n",
      "15 岡本 10.864278306686163\n",
      "16 反田 10.3549758786928\n",
      "17 海闊天空 10.304662517794265\n",
      "18 簽拉 9.625274945095216\n",
      "19  9.072518841284012\n",
      "20 輝輝輝 8.629578022905612\n",
      "21 哈連雞 8.629578022905612\n",
      "22 皮豆 8.321517490514502\n",
      "23 甲殼蟲樂隊 6.471859924183\n",
      "24 兇宅夜 6.471859924183\n",
      "25 歌太早 6.471859924183\n",
      "26 阿輝 6.471859924183\n",
      "27 韋廷 6.471859924183\n",
      "28 海灣 6.471859924183\n",
      "29 電和聯電 6.471859924183\n",
      "30 帥之形 6.471859924183\n",
      "31 糖三淆 6.471859924183\n",
      "32 鼠鼠王 6.471859924183\n",
      "33 董滋 6.471859924183\n",
      "34 嘻三小糙 6.471859924183\n",
      "35 動漫卡通 6.471859924183\n",
      "36 羽彩 6.471859924183\n",
      "37 嘴破還 6.471859924183\n",
      "38 估摸 6.471859924183\n",
      "39 問鄒智全 6.471859924183\n",
      "40 公三小喇蛤 6.471859924183\n",
      "41 天鬧板 6.471859924183\n",
      "42 傘肥刀 6.471859924183\n",
      "43 五樓姆咪姆咪姆咪姆咪姆咪姆咪姆 6.471859924183\n",
      "44 喝三小滾 6.471859924183\n",
      "45 板樂透 6.471859924183\n",
      "46 星大冰 6.471859924183\n",
      "47 美共三小幹 6.471859924183\n",
      "48 冰鍵 6.471859924183\n",
      "49 媽咧公三小 6.471859924183\n",
      "50 開公三小幹 6.471859924183\n",
      "51 這超棒 6.471859924183\n",
      "52 沃爾特 6.471859924183\n",
      "53 布拉頓 6.471859924183\n",
      "54 這比文組 6.471859924183\n",
      "55 安價的掛 6.471859924183\n",
      "56 沙肉 6.471859924183\n",
      "57 君夢中 6.471859924183\n",
      "58 禮義 6.471859924183\n",
      "59 當嘎 6.471859924183\n",
      "60 醬公三小幹 6.471859924183\n",
      "61 姆斯花 6.471859924183\n",
      "62 修哀度 6.471859924183\n",
      "63 蓋三小啦森 6.471859924183\n",
      "64 哥常去 6.471859924183\n",
      "65 葉交台 6.471859924183\n",
      "66 成清 6.471859924183\n",
      "67 改人獸 6.471859924183\n",
      "68 社社 6.372230160366157\n",
      "69 霸鳳拳 6.125286333903027\n",
      "70 普亭 6.125286333903027\n",
      "71 網球肘 6.125286333903027\n",
      "72 長舌婦 6.125286333903027\n",
      "73 提成 6.125286333903027\n",
      "74 丑時 6.125286333903027\n",
      "75 原者 6.125286333903027\n",
      "76 弄巧成拙 6.125286333903027\n",
      "77 自犬 6.125286333903027\n",
      "78 額額 6.09131456064104\n",
      "79 弌 5.965232582880959\n",
      "80 打起精神 5.922553779968505\n",
      "81 廉 5.778712743623054\n",
      "82 桀桀 5.75218910061385\n",
      "83 書記 5.678926533428106\n",
      "84 黑盒子 5.66714096796595\n",
      "85 工頭 5.5759801893298535\n",
      "86 金爆 5.5759801893298535\n",
      "87 懂資 5.567885277517852\n",
      "88 烏魯賽 5.547678327009667\n",
      "89 鹿人 5.547678327009667\n",
      "90 國國國 5.454607714670117\n",
      "91 奶泡 5.432139153343082\n",
      "92 道聽塗說 5.432139153343082\n",
      "93 樓樓 5.383601385991371\n",
      "94 北哥 5.37324763563445\n",
      "95 晚風 5.2729122873055765\n",
      "96 緊來 5.250595445421674\n",
      "97 延期 5.229406599767238\n",
      "98 函數 5.189385245213113\n",
      "99 謝來 5.1774879393464\n"
     ]
    }
   ],
   "source": [
    "L = sorted(super_dict.items(),key=lambda item:item[1],reverse=True)\n",
    "\n",
    "X = []\n",
    "Y = []\n",
    "i=0\n",
    "print('weight hight:')\n",
    "for word, freq in L[:100]:\n",
    "    X.append(i)\n",
    "    Y.append(freq)\n",
    "    print(i,word, freq)\n",
    "    i = i+1"
   ]
  },
  {
   "cell_type": "code",
   "execution_count": 48,
   "id": "f980c0de",
   "metadata": {},
   "outputs": [
    {
     "name": "stdout",
     "output_type": "stream",
     "text": [
      "[12.943719848366, 12.943719848366, 12.943719848366, 12.943719848366, 12.943719848366, 12.943719848366, 12.943719848366, 12.943719848366, 12.943719848366, 12.943719848366, 12.943719848366, 12.250572667806054, 12.250572667806054, 11.557425487246109, 11.151960378659707, 10.864278306686163, 10.3549758786928, 10.304662517794265, 9.625274945095216, 9.072518841284012, 8.629578022905612, 8.629578022905612, 8.321517490514502, 6.471859924183, 6.471859924183, 6.471859924183, 6.471859924183, 6.471859924183, 6.471859924183, 6.471859924183, 6.471859924183, 6.471859924183, 6.471859924183, 6.471859924183, 6.471859924183, 6.471859924183, 6.471859924183, 6.471859924183, 6.471859924183, 6.471859924183, 6.471859924183, 6.471859924183, 6.471859924183, 6.471859924183, 6.471859924183, 6.471859924183, 6.471859924183, 6.471859924183, 6.471859924183, 6.471859924183, 6.471859924183, 6.471859924183, 6.471859924183, 6.471859924183, 6.471859924183, 6.471859924183, 6.471859924183, 6.471859924183, 6.471859924183, 6.471859924183, 6.471859924183, 6.471859924183, 6.471859924183, 6.471859924183, 6.471859924183, 6.471859924183, 6.471859924183, 6.471859924183, 6.372230160366157, 6.125286333903027, 6.125286333903027, 6.125286333903027, 6.125286333903027, 6.125286333903027, 6.125286333903027, 6.125286333903027, 6.125286333903027, 6.125286333903027, 6.09131456064104, 5.965232582880959, 5.922553779968505, 5.778712743623054, 5.75218910061385, 5.678926533428106, 5.66714096796595, 5.5759801893298535, 5.5759801893298535, 5.567885277517852, 5.547678327009667, 5.547678327009667, 5.454607714670117, 5.432139153343082, 5.432139153343082, 5.383601385991371, 5.37324763563445, 5.2729122873055765, 5.250595445421674, 5.229406599767238, 5.189385245213113, 5.1774879393464]\n"
     ]
    }
   ],
   "source": [
    "print(Y)"
   ]
  },
  {
   "cell_type": "code",
   "execution_count": 60,
   "id": "03655001",
   "metadata": {},
   "outputs": [
    {
     "data": {
      "text/plain": [
       "<BarContainer object of 100 artists>"
      ]
     },
     "execution_count": 60,
     "metadata": {},
     "output_type": "execute_result"
    },
    {
     "data": {
      "image/png": "[encoded data removed]",
      "text/plain": [
       "<Figure size 432x288 with 1 Axes>"
      ]
     },
     "metadata": {
      "needs_background": "light"
     },
     "output_type": "display_data"
    }
   ],
   "source": [
    "import matplotlib.pylab as plt\n",
    "plt.bar(X,Y)"
   ]
  },
  {
   "cell_type": "code",
   "execution_count": null,
   "id": "e1440dd5",
   "metadata": {},
   "outputs": [],
   "source": []
  }
 ],
 "metadata": {
  "kernelspec": {
   "display_name": "Python 3 (ipykernel)",
   "language": "python",
   "name": "python3"
  },
  "language_info": {
   "codemirror_mode": {
    "name": "ipython",
    "version": 3
   },
   "file_extension": ".py",
   "mimetype": "text/x-python",
   "name": "python",
   "nbconvert_exporter": "python",
   "pygments_lexer": "ipython3",
   "version": "3.7.6"
  }
 },
 "nbformat": 4,
 "nbformat_minor": 5
}
