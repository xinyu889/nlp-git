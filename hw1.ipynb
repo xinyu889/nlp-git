{
 "cells": [
  {
   "cell_type": "code",
   "execution_count": 80,
   "source": [
    "import urllib.request\n",
    "from numpy.lib.function_base import append  # lib that handles URLs\n",
    "import pandas as pd\n",
    "import re\n",
    "import jieba\n",
    "import jieba.analyse\n",
    "import math\n",
    "import matplotlib.pylab as plt"
   ],
   "outputs": [],
   "metadata": {}
  },
  {
   "cell_type": "code",
   "execution_count": 81,
   "source": [
    "def init():\n",
    "    target_url = \"https://raw.githubusercontent.com/cjwu/cjwu.github.io/master/courses/nlp/hw1-dataset.txt\"\n",
    "    data = urllib.request.urlopen(target_url)\n",
    "\n",
    "    with open('output.txt', 'a+') as f:\n",
    "        for line in data:\n",
    "            decoded_line = line.decode(\"utf-8\")\n",
    "            f.write(decoded_line)\n",
    "    df = pd.read_fwf('./output.txt',header = None)\n",
    "    df.columns = ['content']\n",
    "    df.to_csv('./log.csv', encoding = 'utf-8',index = True)"
   ],
   "outputs": [],
   "metadata": {}
  },
  {
   "cell_type": "code",
   "execution_count": 82,
   "source": [
    "class WordSegment:\n",
    "    def __init__(self,texts,stop_words_path,dicts_path=\"\"):\n",
    "        self.jieba = jieba\n",
    "        self.texts = texts\n",
    "        self.dicts_path = dicts_path\n",
    "        self.stop_words_path = stop_words_path\n",
    "        \n",
    "    def read_dictionary(self): \n",
    "        #讀取類別\n",
    "        if self.dicts_path:\n",
    "            for dic in self.dicts_path:\n",
    "                self.jieba.load_userdict(dic)\n",
    "\n",
    "    def read_stop_words(self):\n",
    "        #讀取stopword\n",
    "        self.stop_words = set()\n",
    "        if stop_words_path:\n",
    "            with open(stop_words_path,encoding = 'UTF-8') as file:\n",
    "                self.stop_words = self.stop_words | set(map(str.strip,file.readlines()))\n",
    "        \n",
    "    def remove_stop_words(self):\n",
    "        # 去除繁體中文以外的英文、數字、符號\n",
    "        jieba.set_dictionary('./dict.txt.big')\n",
    "        rule = re.compile(r\"[^\\u4e00-\\u9fa5]\")\n",
    "        self.texts = [list(self.jieba.cut(rule.sub('', text))) for text in self.texts]\n",
    "        for idx, speech in enumerate(self.texts):\n",
    "            self.texts[idx] = ' '.join([word for word in speech if word.strip() not in self.stop_words])"
   ],
   "outputs": [],
   "metadata": {}
  },
  {
   "cell_type": "code",
   "execution_count": 83,
   "source": [
    "def topic():\n",
    "    topic = {}\n",
    "    with open('log.csv', newline='') as f:\n",
    "        contents = \"\"\n",
    "        for i,line in enumerate(f.readlines()):\n",
    "            if i==0:continue\n",
    "            ind, content = line.split(\",\",1)\n",
    "            contents = content\n",
    "            topic[ind] = content\n",
    "    return topic"
   ],
   "outputs": [],
   "metadata": {}
  },
  {
   "cell_type": "code",
   "execution_count": 84,
   "source": [
    "#計算每行詞次數\n",
    "def words_count():\n",
    "    words_count = []\n",
    "    for file in text_files:\n",
    "        count = {}\n",
    "        for word in file:\n",
    "            if word in count:\n",
    "                count[word] += 1\n",
    "            else:\n",
    "                count[word] = 1\n",
    "        words_count.append(count)\n",
    "    return words_count"
   ],
   "outputs": [],
   "metadata": {}
  },
  {
   "cell_type": "code",
   "execution_count": 85,
   "source": [
    "#統計每個語詞的頻率(次數/全部語詞次數)tf\n",
    "def words_frequency(words_count):\n",
    "    words_frequency = []\n",
    "    for word_count in words_count:\n",
    "        all_count = sum(word_count.values()) #該行所有語詞的數量\n",
    "        fre = {}\n",
    "        for word,count in word_count.items():\n",
    "            fre[word] = round(count/all_count,4)\n",
    "        words_frequency.append(fre)\n",
    "    return words_frequency"
   ],
   "outputs": [],
   "metadata": {}
  },
  {
   "cell_type": "code",
   "execution_count": 86,
   "source": [
    "#idf \n",
    "#先取得包含該語詞的文件數量\n",
    "#就是該語詞在幾個文件中\"出現過\"\n",
    "def occurrences_of_word(words_count):\n",
    "    all_words = []\n",
    "    for word in words_count:\n",
    "        all_words.extend(list(word.keys()))\n",
    "    \n",
    "    occurrences_of_word = {}\n",
    "    for word in all_words:\n",
    "        if word in occurrences_of_word:\n",
    "            occurrences_of_word[word] += 1\n",
    "        else:\n",
    "            occurrences_of_word[word] = 1\n",
    "    return occurrences_of_word\n",
    "\n"
   ],
   "outputs": [],
   "metadata": {}
  },
  {
   "cell_type": "code",
   "execution_count": 87,
   "source": [
    "#文本數量/包含該語詞的數量\n",
    "#就是行數量/該語詞在幾個文章中\"出現過\"\n",
    "def inverse_document_frequency(words_count,occurrences_of_word):\n",
    "    inverse_document_frequency = []     \n",
    "    for word_count in words_count:\n",
    "        invFre = {} \n",
    "        for word in word_count.keys():\n",
    "            occurrences = occurrences_of_word[word]\n",
    "            invFre[word] = math.log(round((len(words_count)/occurrences),4))\n",
    "        inverse_document_frequency.append(invFre)\n",
    "    return inverse_document_frequency"
   ],
   "outputs": [],
   "metadata": {}
  },
  {
   "cell_type": "code",
   "execution_count": 95,
   "source": [
    "#tf*idf\n",
    "def tf_idf(words_frequency,inverse_document_frequency):\n",
    "    all_tf_idf = []\n",
    "    for i,words in enumerate(words_frequency):\n",
    "        tf_idf = {}\n",
    "        for word,freq in words.items():\n",
    "            tf_idf[word] = freq*inverse_document_frequency[i][word]\n",
    "        all_tf_idf.append(tf_idf)\n",
    "\n",
    "    super_dict = {}\n",
    "    for d in all_tf_idf:\n",
    "        for k, v in d.items():\n",
    "            super_dict[k] = v\n",
    "    return super_dict"
   ],
   "outputs": [
    {
     "output_type": "stream",
     "name": "stdout",
     "text": [
      "高頻:\n",
      "0 八卦 77914\n",
      "1 有沒有 71819\n",
      "2 什麼 63359\n",
      "3 有 57271\n",
      "4 你 55990\n",
      "5 人 53761\n",
      "6 在 48113\n",
      "7 我 46730\n",
      "8 會 41136\n",
      "9 不 36862\n",
      "10 要 36058\n",
      "11 好 35172\n",
      "12 跟 31913\n",
      "13 台灣 31692\n",
      "14 去 31004\n",
      "15 為 30150\n",
      "16 也 23840\n",
      "17 說 23613\n",
      "18 沒 22270\n",
      "19 可以 22113\n",
      "20 是不是 21383\n",
      "21 怎麼 21121\n",
      "22 到 19843\n",
      "23 想 19067\n",
      "24 肥宅 18277\n",
      "25 吃 16820\n",
      "26 現在 16798\n",
      "27 看 16162\n",
      "28 真的 15503\n",
      "29 才 13859\n",
      "30 他 13829\n",
      "31 比較 13789\n",
      "32 不會 13679\n",
      "33 中國 13541\n",
      "34 知道 13442\n",
      "35 怎麼辦 12926\n",
      "36 自己 12365\n",
      "37 誰 12237\n",
      "38 沒有 11922\n",
      "39 多 11810\n",
      "40 不是 11694\n",
      "41 最 11319\n",
      "42 還是 11129\n",
      "43 就是 10752\n",
      "44 用 10561\n",
      "45 如果 10455\n",
      "46 一個 10343\n",
      "47 啦 10238\n",
      "48 把 9946\n",
      "49 一堆 9882\n",
      "50 這樣 9844\n",
      "51 上 9494\n",
      "52 一樣 9469\n",
      "53 阿 9149\n",
      "54 做 8976\n",
      "55 該 8969\n",
      "56 買 8883\n",
      "57 幹 8798\n",
      "58 又 8741\n",
      "59 覺得 8707\n",
      "60 喔 8595\n",
      "61 打 8513\n",
      "62 到底 8377\n",
      "63 怎樣 8229\n",
      "64 應該 8206\n",
      "65 能 8139\n",
      "66 卦 8069\n",
      "67 女生 8059\n",
      "68 對 7818\n",
      "69 大家 7777\n",
      "70 時候 7689\n",
      "71 那 7664\n",
      "72 喜歡 7659\n",
      "73 後 7597\n",
      "74 不要 7494\n",
      "75 有人 7398\n",
      "76 日本 7289\n",
      "77 很多 7274\n",
      "78 讓 7202\n",
      "79 叫 7021\n",
      "80 美國 6834\n",
      "81 中 6645\n",
      "82 大 6536\n",
      "83 這 6534\n",
      "84 小 6493\n",
      "85 再 6466\n",
      "86 比 6458\n",
      "87 哪 6438\n",
      "88 哪個 6429\n",
      "89 幹嘛 6289\n",
      "90 因為 6273\n",
      "91 呢 6242\n",
      "92 這麼 6164\n",
      "93 感覺 6120\n",
      "94 啥 6120\n",
      "95 看到 6111\n",
      "96 錢 6103\n",
      "97 問題 6097\n",
      "98 如何 5963\n",
      "99 朋友 5746\n"
     ]
    }
   ],
   "metadata": {}
  },
  {
   "cell_type": "code",
   "execution_count": 89,
   "source": [
    "init()\n",
    "topic = topic()\n",
    "jieba.setLogLevel(jieba.logging.INFO)\n",
    "stop_words_path = './stop_words.txt'\n",
    "ws = WordSegment(topic.values(),stop_words_path)\n",
    "ws.read_stop_words()\n",
    "ws.remove_stop_words()\n",
    "text_files = [text.split(\" \") for text in ws.texts]"
   ],
   "outputs": [],
   "metadata": {}
  },
  {
   "cell_type": "code",
   "execution_count": 96,
   "source": [
    "words_count = words_count()\n",
    "words_frequency = words_frequency(words_count)\n",
    "occurrences_of_word = occurrences_of_word(words_count)"
   ],
   "outputs": [
    {
     "output_type": "execute_result",
     "data": {
      "text/plain": [
       "<BarContainer object of 100 artists>"
      ]
     },
     "metadata": {},
     "execution_count": 96
    },
    {
     "output_type": "display_data",
     "data": {
      "text/plain": [
       "<Figure size 432x288 with 1 Axes>"
      ],
      "image/png": "[encoded data removed]"
     },
     "metadata": {
      "needs_background": "light"
     }
    }
   ],
   "metadata": {}
  },
  {
   "cell_type": "code",
   "execution_count": 92,
   "source": [
    "freq_word = []\n",
    "for word, freq in occurrences_of_word.items():\n",
    "    freq_word.append((word, freq))\n",
    "\n",
    "freq_word.sort(key = lambda x: x[1], reverse = True) #反序排列，根據第二個參數\n",
    "X = []\n",
    "Y = []\n",
    "i=0\n",
    "print('高頻:')\n",
    "for word, freq in freq_word[: 100]:\n",
    "    print(i,word, (freq))\n",
    "    X.append(i)\n",
    "    Y.append(freq/len(words_count))\n",
    "    i = i+1"
   ],
   "outputs": [
    {
     "output_type": "stream",
     "name": "stdout",
     "text": [
      "weight hight:\n",
      "0 咪姆宅 12.943719848366\n",
      "1 收悉 12.943719848366\n",
      "2 戊戌 12.943719848366\n",
      "3 吉吉吉覆吉吉 12.943719848366\n",
      "4 曹長 12.943719848366\n",
      "5 圖咧文 12.943719848366\n",
      "6 喇喇喇喇喇喇喇 12.943719848366\n",
      "7 愛玩耍 12.943719848366\n",
      "8 偽鈔 12.943719848366\n",
      "9 角速度 12.943719848366\n",
      "10 推三小三小 12.943719848366\n",
      "11 斯洛伐克 12.250572667806054\n",
      "12 泰拉 12.250572667806054\n",
      "13 柔珠 11.557425487246109\n",
      "14 搖起來 11.151960378659707\n",
      "15 岡本 10.864278306686163\n",
      "16 反田 10.3549758786928\n",
      "17 海闊天空 10.304662517794265\n",
      "18 簽拉 9.625274945095216\n",
      "19  9.072518841284012\n",
      "20 輝輝輝 8.629578022905612\n",
      "21 哈連雞 8.629578022905612\n",
      "22 皮豆 8.321517490514502\n",
      "23 甲殼蟲樂隊 6.471859924183\n",
      "24 兇宅夜 6.471859924183\n",
      "25 歌太早 6.471859924183\n",
      "26 阿輝 6.471859924183\n",
      "27 韋廷 6.471859924183\n",
      "28 海灣 6.471859924183\n",
      "29 電和聯電 6.471859924183\n",
      "30 帥之形 6.471859924183\n",
      "31 糖三淆 6.471859924183\n",
      "32 鼠鼠王 6.471859924183\n",
      "33 董滋 6.471859924183\n",
      "34 嘻三小糙 6.471859924183\n",
      "35 動漫卡通 6.471859924183\n",
      "36 羽彩 6.471859924183\n",
      "37 嘴破還 6.471859924183\n",
      "38 估摸 6.471859924183\n",
      "39 問鄒智全 6.471859924183\n",
      "40 公三小喇蛤 6.471859924183\n",
      "41 天鬧板 6.471859924183\n",
      "42 傘肥刀 6.471859924183\n",
      "43 五樓姆咪姆咪姆咪姆咪姆咪姆咪姆 6.471859924183\n",
      "44 喝三小滾 6.471859924183\n",
      "45 板樂透 6.471859924183\n",
      "46 星大冰 6.471859924183\n",
      "47 美共三小幹 6.471859924183\n",
      "48 冰鍵 6.471859924183\n",
      "49 媽咧公三小 6.471859924183\n",
      "50 開公三小幹 6.471859924183\n",
      "51 這超棒 6.471859924183\n",
      "52 沃爾特 6.471859924183\n",
      "53 布拉頓 6.471859924183\n",
      "54 這比文組 6.471859924183\n",
      "55 安價的掛 6.471859924183\n",
      "56 沙肉 6.471859924183\n",
      "57 君夢中 6.471859924183\n",
      "58 禮義 6.471859924183\n",
      "59 當嘎 6.471859924183\n",
      "60 醬公三小幹 6.471859924183\n",
      "61 姆斯花 6.471859924183\n",
      "62 修哀度 6.471859924183\n",
      "63 蓋三小啦森 6.471859924183\n",
      "64 哥常去 6.471859924183\n",
      "65 葉交台 6.471859924183\n",
      "66 成清 6.471859924183\n",
      "67 改人獸 6.471859924183\n",
      "68 社社 6.372230160366157\n",
      "69 霸鳳拳 6.125286333903027\n",
      "70 普亭 6.125286333903027\n",
      "71 網球肘 6.125286333903027\n",
      "72 長舌婦 6.125286333903027\n",
      "73 提成 6.125286333903027\n",
      "74 丑時 6.125286333903027\n",
      "75 原者 6.125286333903027\n",
      "76 弄巧成拙 6.125286333903027\n",
      "77 自犬 6.125286333903027\n",
      "78 額額 6.09131456064104\n",
      "79 弌 5.965232582880959\n",
      "80 打起精神 5.922553779968505\n",
      "81 廉 5.778712743623054\n",
      "82 桀桀 5.75218910061385\n",
      "83 書記 5.678926533428106\n",
      "84 黑盒子 5.66714096796595\n",
      "85 工頭 5.5759801893298535\n",
      "86 金爆 5.5759801893298535\n",
      "87 懂資 5.567885277517852\n",
      "88 烏魯賽 5.547678327009667\n",
      "89 鹿人 5.547678327009667\n",
      "90 國國國 5.454607714670117\n",
      "91 奶泡 5.432139153343082\n",
      "92 道聽塗說 5.432139153343082\n",
      "93 樓樓 5.383601385991371\n",
      "94 北哥 5.37324763563445\n",
      "95 晚風 5.2729122873055765\n",
      "96 緊來 5.250595445421674\n",
      "97 延期 5.229406599767238\n",
      "98 函數 5.189385245213113\n",
      "99 謝來 5.1774879393464\n"
     ]
    }
   ],
   "metadata": {}
  },
  {
   "cell_type": "code",
   "execution_count": 94,
   "source": [
    "inverse_document_frequency = inverse_document_frequency(words_count,occurrences_of_word)\n",
    "super_dict = tf_idf(words_frequency,inverse_document_frequency)  "
   ],
   "outputs": [
    {
     "output_type": "execute_result",
     "data": {
      "text/plain": [
       "<BarContainer object of 100 artists>"
      ]
     },
     "metadata": {},
     "execution_count": 94
    },
    {
     "output_type": "display_data",
     "data": {
      "text/plain": [
       "<Figure size 432x288 with 1 Axes>"
      ],
      "image/png": "[encoded data removed]"
     },
     "metadata": {
      "needs_background": "light"
     }
    }
   ],
   "metadata": {}
  },
  {
   "cell_type": "code",
   "execution_count": null,
   "source": [
    "plt.bar(X,Y)  "
   ],
   "outputs": [],
   "metadata": {}
  },
  {
   "cell_type": "code",
   "execution_count": null,
   "source": [
    "L = sorted(super_dict.items(),key=lambda item:item[1],reverse=True)\n",
    "X1 = []\n",
    "Y1 = []\n",
    "i=0\n",
    "print('weight hight:')\n",
    "for word, freq in L[:100]:\n",
    "    X1.append(i)\n",
    "    Y1.append(freq)\n",
    "    print(i,word, freq)\n",
    "    i = i+1"
   ],
   "outputs": [],
   "metadata": {}
  },
  {
   "cell_type": "code",
   "execution_count": null,
   "source": [
    "plt.bar(X1,Y1)"
   ],
   "outputs": [],
   "metadata": {}
  }
 ],
 "metadata": {
  "kernelspec": {
   "display_name": "Python 3 (ipykernel)",
   "language": "python",
   "name": "python3"
  },
  "language_info": {
   "codemirror_mode": {
    "name": "ipython",
    "version": 3
   },
   "file_extension": ".py",
   "mimetype": "text/x-python",
   "name": "python",
   "nbconvert_exporter": "python",
   "pygments_lexer": "ipython3",
   "version": "3.7.6"
  }
 },
 "nbformat": 4,
 "nbformat_minor": 5
}