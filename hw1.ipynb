{
 "cells": [
  {
   "cell_type": "code",
   "execution_count": 1,
   "id": "55f2a612",
   "metadata": {},
   "outputs": [],
   "source": [
    "# %load hw1.py\n",
    "import urllib.request\n",
    "from numpy.lib.function_base import append  # lib that handles URLs\n",
    "import pandas as pd\n",
    "import re\n",
    "import jieba\n",
    "import jieba.analyse\n",
    "import math"
   ]
  },
  {
   "cell_type": "code",
   "execution_count": 2,
   "id": "6076a314",
   "metadata": {},
   "outputs": [],
   "source": [
    "target_url = \"https://raw.githubusercontent.com/cjwu/cjwu.github.io/master/courses/nlp/hw1-dataset.txt\"\n",
    "data = urllib.request.urlopen(target_url)\n",
    "\n",
    "with open('output.txt', 'a+') as f:\n",
    "    for line in data:\n",
    "        decoded_line = line.decode(\"utf-8\")\n",
    "        f.write(decoded_line)"
   ]
  },
  {
   "cell_type": "code",
   "execution_count": 3,
   "id": "f50a8f79",
   "metadata": {},
   "outputs": [],
   "source": [
    "df = pd.read_fwf('./output.txt',header = None)\n",
    "df.columns = ['content']\n",
    "df.to_csv('./log.csv', encoding = 'utf-8',index = True)"
   ]
  },
  {
   "cell_type": "code",
   "execution_count": 4,
   "id": "3b09cba3",
   "metadata": {},
   "outputs": [],
   "source": [
    "class WordSegment:\n",
    "    def __init__(self,texts,stop_words_path,dicts_path=\"\"):\n",
    "        self.jieba = jieba\n",
    "        self.texts = texts\n",
    "        self.dicts_path = dicts_path\n",
    "        self.stop_words_path = stop_words_path\n",
    "        \n",
    "    def read_dictionary(self): \n",
    "        #讀取類別\n",
    "        if self.dicts_path:\n",
    "            for dic in self.dicts_path:\n",
    "                self.jieba.load_userdict(dic)\n",
    "\n",
    "    def read_stop_words(self):\n",
    "        #讀取stopword\n",
    "        self.stop_words = set()\n",
    "        if stop_words_path:\n",
    "            with open(stop_words_path,encoding = 'UTF-8') as file:\n",
    "                self.stop_words = self.stop_words | set(map(str.strip,file.readlines()))\n",
    "        \n",
    "    def remove_stop_words(self):\n",
    "        # 去除繁體中文以外的英文、數字、符號\n",
    "        #jieba.set_dictionary('./dict.txt.big')\n",
    "        rule = re.compile(r\"[^\\u4e00-\\u9fa5]\")\n",
    "        self.texts = [list(self.jieba.cut(rule.sub('', text))) for text in self.texts]\n",
    "        for idx, speech in enumerate(self.texts):\n",
    "            self.texts[idx] = ' '.join([word for word in speech if word.strip() not in self.stop_words])"
   ]
  },
  {
   "cell_type": "code",
   "execution_count": 8,
   "id": "274fc81d",
   "metadata": {},
   "outputs": [],
   "source": [
    "topic = {}\n",
    "with open('log.csv', newline='') as f:\n",
    "    contents = \"\"\n",
    "    for i,line in enumerate(f.readlines()):\n",
    "        if i==0:continue\n",
    "        ind, content = line.split(\",\",1)\n",
    "        contents = content\n",
    "        topic[ind] = content\n",
    "#print(topic)"
   ]
  },
  {
   "cell_type": "code",
   "execution_count": 7,
   "id": "1bac17b4",
   "metadata": {},
   "outputs": [],
   "source": [
    "jieba.setLogLevel(jieba.logging.INFO)\n",
    "stop_words_path = './stop_words.txt'\n",
    "\n",
    "ws = WordSegment(topic.values(),stop_words_path)\n",
    "ws.read_stop_words()\n",
    "ws.remove_stop_words()\n",
    "text_files = [text.split(\" \") for text in ws.texts]"
   ]
  },
  {
   "cell_type": "code",
   "execution_count": null,
   "id": "d60db7d7",
   "metadata": {},
   "outputs": [],
   "source": []
  }
 ],
 "metadata": {
  "kernelspec": {
   "display_name": "Python 3 (ipykernel)",
   "language": "python",
   "name": "python3"
  },
  "language_info": {
   "codemirror_mode": {
    "name": "ipython",
    "version": 3
   },
   "file_extension": ".py",
   "mimetype": "text/x-python",
   "name": "python",
   "nbconvert_exporter": "python",
   "pygments_lexer": "ipython3",
   "version": "3.7.6"
  }
 },
 "nbformat": 4,
 "nbformat_minor": 5
}
